{
  "nbformat": 4,
  "nbformat_minor": 0,
  "metadata": {
    "colab": {
      "provenance": [],
      "collapsed_sections": [
        "v06Wdm799FrJ",
        "lcAvEQlno2rT",
        "JcAZ7gXTtDY-"
      ],
      "authorship_tag": "ABX9TyPjDes5lUIeCO3QWwdvXP7C"
    },
    "kernelspec": {
      "name": "python3",
      "display_name": "Python 3"
    },
    "language_info": {
      "name": "python"
    }
  },
  "cells": [
    {
      "cell_type": "markdown",
      "source": [
        "#데이터 전처리 및 라이브러리 임포트"
      ],
      "metadata": {
        "id": "v06Wdm799FrJ"
      }
    },
    {
      "cell_type": "code",
      "execution_count": 2,
      "metadata": {
        "colab": {
          "base_uri": "https://localhost:8080/"
        },
        "id": "5svMlB-_lg-v",
        "outputId": "7c615c87-da6a-416e-b3ad-b067100fabf9"
      },
      "outputs": [
        {
          "output_type": "stream",
          "name": "stdout",
          "text": [
            "Mounted at /content/drive\n"
          ]
        }
      ],
      "source": [
        "from google.colab import drive\n",
        "drive.mount('/content/drive')"
      ]
    },
    {
      "cell_type": "code",
      "source": [
        "import numpy as np\n",
        "import pandas as pd\n",
        "import matplotlib.pyplot as plt"
      ],
      "metadata": {
        "id": "i8FK3B9dlsPJ"
      },
      "execution_count": 3,
      "outputs": []
    },
    {
      "cell_type": "code",
      "source": [
        "data = pd.read_csv('/content/drive/MyDrive/Financial Engineering/Implied Distibution/KOSPI200OPTIONS.csv', encoding = 'cp949')\n",
        "data = data[data['거래량']>3]"
      ],
      "metadata": {
        "id": "5UOZ3ymjl1So"
      },
      "execution_count": 4,
      "outputs": []
    },
    {
      "cell_type": "code",
      "source": [
        "data = data[['종목명', '종가']]\n",
        "data = data.dropna()\n",
        "data = data.iloc[4:,:]\n",
        "data['Type'] = [x[7] for x in data['종목명']]\n",
        "data['Strike'] = [x[-5:] for x in data['종목명']]\n",
        "data['Maturity'] = [x[9:-6] for x in data['종목명']]\n",
        "data = data[data['Type']=='C']\n",
        "data = data[data['Maturity']=='202303']\n",
        "data = data.iloc[:, 1:]\n",
        "data = data.iloc[:-8, :]\n",
        "data.columns = ['Close', 'Type', 'Strike', 'Maturity']\n",
        "data = data.drop(columns = ['Type'])\n",
        "df = data.iloc[:, :2].reset_index(drop=True)\n",
        "df = df.astype('float')"
      ],
      "metadata": {
        "id": "s_NHzgCIu4Kj"
      },
      "execution_count": 5,
      "outputs": []
    },
    {
      "cell_type": "code",
      "source": [
        "df"
      ],
      "metadata": {
        "colab": {
          "base_uri": "https://localhost:8080/",
          "height": 0
        },
        "id": "hVoJCEWnnayr",
        "outputId": "99d4fd10-4fb9-4177-ffdf-1b75a0f961fb"
      },
      "execution_count": 6,
      "outputs": [
        {
          "output_type": "execute_result",
          "data": {
            "text/plain": [
              "    Close  Strike\n",
              "0   11.20   305.0\n",
              "1    9.29   307.5\n",
              "2    7.30   310.0\n",
              "3    5.50   312.5\n",
              "4    3.95   315.0\n",
              "5    2.67   317.5\n",
              "6    1.72   320.0\n",
              "7    1.02   322.5\n",
              "8    0.56   325.0\n",
              "9    0.28   327.5\n",
              "10   0.14   330.0\n",
              "11   0.07   332.5\n",
              "12   0.04   335.0\n",
              "13   0.02   337.5\n",
              "14   0.02   340.0\n",
              "15   0.01   342.5"
            ],
            "text/html": [
              "\n",
              "  <div id=\"df-602438c2-f771-4099-ac49-e846f39bec8a\">\n",
              "    <div class=\"colab-df-container\">\n",
              "      <div>\n",
              "<style scoped>\n",
              "    .dataframe tbody tr th:only-of-type {\n",
              "        vertical-align: middle;\n",
              "    }\n",
              "\n",
              "    .dataframe tbody tr th {\n",
              "        vertical-align: top;\n",
              "    }\n",
              "\n",
              "    .dataframe thead th {\n",
              "        text-align: right;\n",
              "    }\n",
              "</style>\n",
              "<table border=\"1\" class=\"dataframe\">\n",
              "  <thead>\n",
              "    <tr style=\"text-align: right;\">\n",
              "      <th></th>\n",
              "      <th>Close</th>\n",
              "      <th>Strike</th>\n",
              "    </tr>\n",
              "  </thead>\n",
              "  <tbody>\n",
              "    <tr>\n",
              "      <th>0</th>\n",
              "      <td>11.20</td>\n",
              "      <td>305.0</td>\n",
              "    </tr>\n",
              "    <tr>\n",
              "      <th>1</th>\n",
              "      <td>9.29</td>\n",
              "      <td>307.5</td>\n",
              "    </tr>\n",
              "    <tr>\n",
              "      <th>2</th>\n",
              "      <td>7.30</td>\n",
              "      <td>310.0</td>\n",
              "    </tr>\n",
              "    <tr>\n",
              "      <th>3</th>\n",
              "      <td>5.50</td>\n",
              "      <td>312.5</td>\n",
              "    </tr>\n",
              "    <tr>\n",
              "      <th>4</th>\n",
              "      <td>3.95</td>\n",
              "      <td>315.0</td>\n",
              "    </tr>\n",
              "    <tr>\n",
              "      <th>5</th>\n",
              "      <td>2.67</td>\n",
              "      <td>317.5</td>\n",
              "    </tr>\n",
              "    <tr>\n",
              "      <th>6</th>\n",
              "      <td>1.72</td>\n",
              "      <td>320.0</td>\n",
              "    </tr>\n",
              "    <tr>\n",
              "      <th>7</th>\n",
              "      <td>1.02</td>\n",
              "      <td>322.5</td>\n",
              "    </tr>\n",
              "    <tr>\n",
              "      <th>8</th>\n",
              "      <td>0.56</td>\n",
              "      <td>325.0</td>\n",
              "    </tr>\n",
              "    <tr>\n",
              "      <th>9</th>\n",
              "      <td>0.28</td>\n",
              "      <td>327.5</td>\n",
              "    </tr>\n",
              "    <tr>\n",
              "      <th>10</th>\n",
              "      <td>0.14</td>\n",
              "      <td>330.0</td>\n",
              "    </tr>\n",
              "    <tr>\n",
              "      <th>11</th>\n",
              "      <td>0.07</td>\n",
              "      <td>332.5</td>\n",
              "    </tr>\n",
              "    <tr>\n",
              "      <th>12</th>\n",
              "      <td>0.04</td>\n",
              "      <td>335.0</td>\n",
              "    </tr>\n",
              "    <tr>\n",
              "      <th>13</th>\n",
              "      <td>0.02</td>\n",
              "      <td>337.5</td>\n",
              "    </tr>\n",
              "    <tr>\n",
              "      <th>14</th>\n",
              "      <td>0.02</td>\n",
              "      <td>340.0</td>\n",
              "    </tr>\n",
              "    <tr>\n",
              "      <th>15</th>\n",
              "      <td>0.01</td>\n",
              "      <td>342.5</td>\n",
              "    </tr>\n",
              "  </tbody>\n",
              "</table>\n",
              "</div>\n",
              "      <button class=\"colab-df-convert\" onclick=\"convertToInteractive('df-602438c2-f771-4099-ac49-e846f39bec8a')\"\n",
              "              title=\"Convert this dataframe to an interactive table.\"\n",
              "              style=\"display:none;\">\n",
              "        \n",
              "  <svg xmlns=\"http://www.w3.org/2000/svg\" height=\"24px\"viewBox=\"0 0 24 24\"\n",
              "       width=\"24px\">\n",
              "    <path d=\"M0 0h24v24H0V0z\" fill=\"none\"/>\n",
              "    <path d=\"M18.56 5.44l.94 2.06.94-2.06 2.06-.94-2.06-.94-.94-2.06-.94 2.06-2.06.94zm-11 1L8.5 8.5l.94-2.06 2.06-.94-2.06-.94L8.5 2.5l-.94 2.06-2.06.94zm10 10l.94 2.06.94-2.06 2.06-.94-2.06-.94-.94-2.06-.94 2.06-2.06.94z\"/><path d=\"M17.41 7.96l-1.37-1.37c-.4-.4-.92-.59-1.43-.59-.52 0-1.04.2-1.43.59L10.3 9.45l-7.72 7.72c-.78.78-.78 2.05 0 2.83L4 21.41c.39.39.9.59 1.41.59.51 0 1.02-.2 1.41-.59l7.78-7.78 2.81-2.81c.8-.78.8-2.07 0-2.86zM5.41 20L4 18.59l7.72-7.72 1.47 1.35L5.41 20z\"/>\n",
              "  </svg>\n",
              "      </button>\n",
              "      \n",
              "  <style>\n",
              "    .colab-df-container {\n",
              "      display:flex;\n",
              "      flex-wrap:wrap;\n",
              "      gap: 12px;\n",
              "    }\n",
              "\n",
              "    .colab-df-convert {\n",
              "      background-color: #E8F0FE;\n",
              "      border: none;\n",
              "      border-radius: 50%;\n",
              "      cursor: pointer;\n",
              "      display: none;\n",
              "      fill: #1967D2;\n",
              "      height: 32px;\n",
              "      padding: 0 0 0 0;\n",
              "      width: 32px;\n",
              "    }\n",
              "\n",
              "    .colab-df-convert:hover {\n",
              "      background-color: #E2EBFA;\n",
              "      box-shadow: 0px 1px 2px rgba(60, 64, 67, 0.3), 0px 1px 3px 1px rgba(60, 64, 67, 0.15);\n",
              "      fill: #174EA6;\n",
              "    }\n",
              "\n",
              "    [theme=dark] .colab-df-convert {\n",
              "      background-color: #3B4455;\n",
              "      fill: #D2E3FC;\n",
              "    }\n",
              "\n",
              "    [theme=dark] .colab-df-convert:hover {\n",
              "      background-color: #434B5C;\n",
              "      box-shadow: 0px 1px 3px 1px rgba(0, 0, 0, 0.15);\n",
              "      filter: drop-shadow(0px 1px 2px rgba(0, 0, 0, 0.3));\n",
              "      fill: #FFFFFF;\n",
              "    }\n",
              "  </style>\n",
              "\n",
              "      <script>\n",
              "        const buttonEl =\n",
              "          document.querySelector('#df-602438c2-f771-4099-ac49-e846f39bec8a button.colab-df-convert');\n",
              "        buttonEl.style.display =\n",
              "          google.colab.kernel.accessAllowed ? 'block' : 'none';\n",
              "\n",
              "        async function convertToInteractive(key) {\n",
              "          const element = document.querySelector('#df-602438c2-f771-4099-ac49-e846f39bec8a');\n",
              "          const dataTable =\n",
              "            await google.colab.kernel.invokeFunction('convertToInteractive',\n",
              "                                                     [key], {});\n",
              "          if (!dataTable) return;\n",
              "\n",
              "          const docLinkHtml = 'Like what you see? Visit the ' +\n",
              "            '<a target=\"_blank\" href=https://colab.research.google.com/notebooks/data_table.ipynb>data table notebook</a>'\n",
              "            + ' to learn more about interactive tables.';\n",
              "          element.innerHTML = '';\n",
              "          dataTable['output_type'] = 'display_data';\n",
              "          await google.colab.output.renderOutput(dataTable, element);\n",
              "          const docLink = document.createElement('div');\n",
              "          docLink.innerHTML = docLinkHtml;\n",
              "          element.appendChild(docLink);\n",
              "        }\n",
              "      </script>\n",
              "    </div>\n",
              "  </div>\n",
              "  "
            ]
          },
          "metadata": {},
          "execution_count": 6
        }
      ]
    },
    {
      "cell_type": "code",
      "source": [
        "plt.plot(df['Strike'], df['Close'])\n",
        "plt.xticks(rotation = '90')\n",
        "plt.ylabel('Option Price')\n",
        "plt.xlabel('Strike Price')\n",
        "plt.show()"
      ],
      "metadata": {
        "colab": {
          "base_uri": "https://localhost:8080/",
          "height": 0
        },
        "id": "7ECTH4yVoYL0",
        "outputId": "f469e027-046d-4926-86f3-bbfb27ff83ce"
      },
      "execution_count": 7,
      "outputs": [
        {
          "output_type": "display_data",
          "data": {
            "text/plain": [
              "<Figure size 432x288 with 1 Axes>"
            ],
            "image/png": "[encoded data removed]"
          },
          "metadata": {
            "needs_background": "light"
          }
        }
      ]
    },
    {
      "cell_type": "markdown",
      "source": [
        "#Implied Distribution"
      ],
      "metadata": {
        "id": "lcAvEQlno2rT"
      }
    },
    {
      "cell_type": "code",
      "source": [
        "delta = 2.5\n",
        "\n",
        "C1 = np.array(df['Close'][0:-2])\n",
        "C2 = np.array(df['Close'][1:-1])\n",
        "C3 = np.array(df['Close'][2:])"
      ],
      "metadata": {
        "id": "NnNKLXEco3xw"
      },
      "execution_count": 8,
      "outputs": []
    },
    {
      "cell_type": "code",
      "source": [
        "Partial = (C1 + C3 - 2*C2)/(delta**2)\n",
        "Partial = np.clip(Partial, 0, 100)"
      ],
      "metadata": {
        "id": "OZnK9BUAqJH0"
      },
      "execution_count": 9,
      "outputs": []
    },
    {
      "cell_type": "code",
      "source": [
        "r = 0.0341 / 252\n",
        "T = 6"
      ],
      "metadata": {
        "id": "Nln7jY2ysLUA"
      },
      "execution_count": 10,
      "outputs": []
    },
    {
      "cell_type": "code",
      "source": [
        "RNP = np.exp(r*T)*Partial\n",
        "RNP.sum()"
      ],
      "metadata": {
        "colab": {
          "base_uri": "https://localhost:8080/"
        },
        "id": "U4Wahu-1snt8",
        "outputId": "8488a8eb-a3ac-4035-bdb7-eee6fa69f00f"
      },
      "execution_count": 11,
      "outputs": [
        {
          "output_type": "execute_result",
          "data": {
            "text/plain": [
              "0.3186586154475407"
            ]
          },
          "metadata": {},
          "execution_count": 11
        }
      ]
    },
    {
      "cell_type": "code",
      "source": [
        "plt.plot(df['Strike'][1:-1], RNP)\n",
        "plt.xlabel('Stock Price')\n",
        "plt.ylabel('Probability')"
      ],
      "metadata": {
        "colab": {
          "base_uri": "https://localhost:8080/",
          "height": 0
        },
        "id": "DQ17vxx3qfU7",
        "outputId": "abd85e10-fafc-4cef-dc34-6e93618ddcb3"
      },
      "execution_count": 12,
      "outputs": [
        {
          "output_type": "execute_result",
          "data": {
            "text/plain": [
              "Text(0, 0.5, 'Probability')"
            ]
          },
          "metadata": {},
          "execution_count": 12
        },
        {
          "output_type": "display_data",
          "data": {
            "text/plain": [
              "<Figure size 432x288 with 1 Axes>"
            ],
            "image/png": "[encoded data removed]"
          },
          "metadata": {
            "needs_background": "light"
          }
        }
      ]
    },
    {
      "cell_type": "markdown",
      "source": [
        "#Implied Volatility"
      ],
      "metadata": {
        "id": "JcAZ7gXTtDY-"
      }
    },
    {
      "cell_type": "code",
      "source": [
        "from scipy.stats import norm"
      ],
      "metadata": {
        "id": "s3y2rb25tuix"
      },
      "execution_count": 13,
      "outputs": []
    },
    {
      "cell_type": "code",
      "source": [
        "def bs_call(s, r, t, sig, k):\n",
        "  r = r\n",
        "  sig = sig/np.sqrt(250)\n",
        "  d1 = (np.log(s/k) + (r+(sig**2)/2)*t)/(sig*np.sqrt(t))\n",
        "  d2 = (np.log(s/k) + (r-(sig**2)/2)*t)/(sig*np.sqrt(t))\n",
        "  call = s*norm.cdf(d1) - k*np.exp(-r*t)*norm.cdf(d2)\n",
        "  return call"
      ],
      "metadata": {
        "id": "Uz8BwK7ftsDL"
      },
      "execution_count": 14,
      "outputs": []
    },
    {
      "cell_type": "code",
      "source": [
        "r = 0.0341 / 252\n",
        "T = 6\n",
        "S = 314.80\n",
        "\n",
        "temp = []\n",
        "for i in range(len(df)):\n",
        "  error = []\n",
        "  for sig in np.linspace(0.01, 0.4, 100):\n",
        "    error.append((bs_call(S, r, T, sig, df['Strike'][i]) - df['Close'][i])**2)\n",
        "  vol = np.linspace(0.01, 0.4, 100)[np.argmin(error)]\n",
        "  temp.append(vol)"
      ],
      "metadata": {
        "id": "F8ZNYzSttFjc"
      },
      "execution_count": 15,
      "outputs": []
    },
    {
      "cell_type": "code",
      "source": [
        "plt.plot(df['Strike'], temp)\n",
        "plt.xlabel('Strike Price')\n",
        "plt.ylabel('Implied Volatility')"
      ],
      "metadata": {
        "colab": {
          "base_uri": "https://localhost:8080/",
          "height": 297
        },
        "id": "X8tJ_DQ0uuR3",
        "outputId": "b3660fc6-d9bf-454d-dd44-3017986dac30"
      },
      "execution_count": 16,
      "outputs": [
        {
          "output_type": "execute_result",
          "data": {
            "text/plain": [
              "Text(0, 0.5, 'Implied Volatility')"
            ]
          },
          "metadata": {},
          "execution_count": 16
        },
        {
          "output_type": "display_data",
          "data": {
            "text/plain": [
              "<Figure size 432x288 with 1 Axes>"
            ],
            "image/png": "[encoded data removed]"
          },
          "metadata": {
            "needs_background": "light"
          }
        }
      ]
    }
  ]
}